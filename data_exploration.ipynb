{
 "cells": [
  {
   "cell_type": "code",
   "execution_count": 1,
   "metadata": {},
   "outputs": [],
   "source": [
    "import numpy as np\n",
    "import pandas as pd\n",
    "\n",
    "import re\n",
    "import nltk\n",
    "import pickle\n",
    "from nltk.corpus import stopwords\n",
    "from nltk.stem import WordNetLemmatizer\n",
    "\n",
    "from sklearn.feature_extraction.text import CountVectorizer\n",
    "from sklearn.decomposition import PCA"
   ]
  },
  {
   "cell_type": "code",
   "execution_count": 2,
   "metadata": {},
   "outputs": [
    {
     "data": {
      "text/html": [
       "<div>\n",
       "<style scoped>\n",
       "    .dataframe tbody tr th:only-of-type {\n",
       "        vertical-align: middle;\n",
       "    }\n",
       "\n",
       "    .dataframe tbody tr th {\n",
       "        vertical-align: top;\n",
       "    }\n",
       "\n",
       "    .dataframe thead th {\n",
       "        text-align: right;\n",
       "    }\n",
       "</style>\n",
       "<table border=\"1\" class=\"dataframe\">\n",
       "  <thead>\n",
       "    <tr style=\"text-align: right;\">\n",
       "      <th></th>\n",
       "      <th>Unnamed: 0</th>\n",
       "      <th>User_id</th>\n",
       "      <th>Bus_id</th>\n",
       "      <th>Star</th>\n",
       "      <th>Useful</th>\n",
       "      <th>Cool</th>\n",
       "      <th>Funny</th>\n",
       "      <th>Review</th>\n",
       "      <th>State</th>\n",
       "      <th>City</th>\n",
       "      <th>Bus_Ave_Star</th>\n",
       "      <th>User_Review_count</th>\n",
       "      <th>User_Useful_count</th>\n",
       "      <th>User_Funny_count</th>\n",
       "      <th>User_Cool_count</th>\n",
       "      <th>Elite</th>\n",
       "      <th>User_Fans</th>\n",
       "      <th>Users_Ave_Star</th>\n",
       "    </tr>\n",
       "  </thead>\n",
       "  <tbody>\n",
       "    <tr>\n",
       "      <th>0</th>\n",
       "      <td>0</td>\n",
       "      <td>4hBhtCSgoxkrFgHa4YAD-w</td>\n",
       "      <td>bbEXAEFr4RYHLlZ-HFssTA</td>\n",
       "      <td>5.0</td>\n",
       "      <td>0</td>\n",
       "      <td>0</td>\n",
       "      <td>0</td>\n",
       "      <td>Great burgers,fries and salad!  Burgers have a...</td>\n",
       "      <td>CA</td>\n",
       "      <td>Goleta</td>\n",
       "      <td>4.0</td>\n",
       "      <td>922</td>\n",
       "      <td>1687</td>\n",
       "      <td>694</td>\n",
       "      <td>1070</td>\n",
       "      <td>2015,2016,2017,2018,2019,20,20,2021</td>\n",
       "      <td>51</td>\n",
       "      <td>4.20</td>\n",
       "    </tr>\n",
       "    <tr>\n",
       "      <th>1</th>\n",
       "      <td>1</td>\n",
       "      <td>JYYYKt6TdVA4ng9lLcXt_g</td>\n",
       "      <td>SZU9c8V2GuREDN5KgyHFJw</td>\n",
       "      <td>5.0</td>\n",
       "      <td>0</td>\n",
       "      <td>0</td>\n",
       "      <td>0</td>\n",
       "      <td>We were a bit weary about trying the Shellfish...</td>\n",
       "      <td>CA</td>\n",
       "      <td>Santa Barbara</td>\n",
       "      <td>4.0</td>\n",
       "      <td>338</td>\n",
       "      <td>800</td>\n",
       "      <td>144</td>\n",
       "      <td>353</td>\n",
       "      <td>2012,2013,2014,2015,2016,2017,2018,2019,20,20,...</td>\n",
       "      <td>30</td>\n",
       "      <td>4.12</td>\n",
       "    </tr>\n",
       "    <tr>\n",
       "      <th>2</th>\n",
       "      <td>2</td>\n",
       "      <td>Uk3X2AypU8AqvcYEVf7s6Q</td>\n",
       "      <td>eL4lyE7LNoXEMvpcJ8WNVw</td>\n",
       "      <td>3.0</td>\n",
       "      <td>5</td>\n",
       "      <td>0</td>\n",
       "      <td>0</td>\n",
       "      <td>This was a tough one!   On the merits of the w...</td>\n",
       "      <td>CA</td>\n",
       "      <td>Santa Barbara</td>\n",
       "      <td>4.0</td>\n",
       "      <td>431</td>\n",
       "      <td>2126</td>\n",
       "      <td>1245</td>\n",
       "      <td>1476</td>\n",
       "      <td>2012,2013,2014,2015,2016,2017,2018,2019,20,20,...</td>\n",
       "      <td>76</td>\n",
       "      <td>4.05</td>\n",
       "    </tr>\n",
       "    <tr>\n",
       "      <th>3</th>\n",
       "      <td>3</td>\n",
       "      <td>LcqNuhqaYt5ekKzaRirmIg</td>\n",
       "      <td>SZU9c8V2GuREDN5KgyHFJw</td>\n",
       "      <td>5.0</td>\n",
       "      <td>2</td>\n",
       "      <td>1</td>\n",
       "      <td>0</td>\n",
       "      <td>I love trying fresh seafood on piers, wharfs a...</td>\n",
       "      <td>CA</td>\n",
       "      <td>Santa Barbara</td>\n",
       "      <td>4.0</td>\n",
       "      <td>258</td>\n",
       "      <td>452</td>\n",
       "      <td>125</td>\n",
       "      <td>183</td>\n",
       "      <td>2015,2016,2017</td>\n",
       "      <td>37</td>\n",
       "      <td>3.99</td>\n",
       "    </tr>\n",
       "    <tr>\n",
       "      <th>4</th>\n",
       "      <td>4</td>\n",
       "      <td>gasLVm0KRwrVhPGRcqATjw</td>\n",
       "      <td>CHh0ZFrQcsk4boOItr2Zuw</td>\n",
       "      <td>4.0</td>\n",
       "      <td>1</td>\n",
       "      <td>2</td>\n",
       "      <td>0</td>\n",
       "      <td>I stopped in because I was hungry for some sna...</td>\n",
       "      <td>CA</td>\n",
       "      <td>Carpinteria</td>\n",
       "      <td>3.0</td>\n",
       "      <td>1638</td>\n",
       "      <td>2658</td>\n",
       "      <td>933</td>\n",
       "      <td>2297</td>\n",
       "      <td>2014,2015,2016,2017,2018,2019,20,20,2021</td>\n",
       "      <td>105</td>\n",
       "      <td>3.79</td>\n",
       "    </tr>\n",
       "  </tbody>\n",
       "</table>\n",
       "</div>"
      ],
      "text/plain": [
       "   Unnamed: 0                 User_id                  Bus_id  Star  Useful  \\\n",
       "0           0  4hBhtCSgoxkrFgHa4YAD-w  bbEXAEFr4RYHLlZ-HFssTA   5.0       0   \n",
       "1           1  JYYYKt6TdVA4ng9lLcXt_g  SZU9c8V2GuREDN5KgyHFJw   5.0       0   \n",
       "2           2  Uk3X2AypU8AqvcYEVf7s6Q  eL4lyE7LNoXEMvpcJ8WNVw   3.0       5   \n",
       "3           3  LcqNuhqaYt5ekKzaRirmIg  SZU9c8V2GuREDN5KgyHFJw   5.0       2   \n",
       "4           4  gasLVm0KRwrVhPGRcqATjw  CHh0ZFrQcsk4boOItr2Zuw   4.0       1   \n",
       "\n",
       "   Cool  Funny                                             Review State  \\\n",
       "0     0      0  Great burgers,fries and salad!  Burgers have a...    CA   \n",
       "1     0      0  We were a bit weary about trying the Shellfish...    CA   \n",
       "2     0      0  This was a tough one!   On the merits of the w...    CA   \n",
       "3     1      0  I love trying fresh seafood on piers, wharfs a...    CA   \n",
       "4     2      0  I stopped in because I was hungry for some sna...    CA   \n",
       "\n",
       "            City  Bus_Ave_Star  User_Review_count  User_Useful_count  \\\n",
       "0         Goleta           4.0                922               1687   \n",
       "1  Santa Barbara           4.0                338                800   \n",
       "2  Santa Barbara           4.0                431               2126   \n",
       "3  Santa Barbara           4.0                258                452   \n",
       "4    Carpinteria           3.0               1638               2658   \n",
       "\n",
       "   User_Funny_count  User_Cool_count  \\\n",
       "0               694             1070   \n",
       "1               144              353   \n",
       "2              1245             1476   \n",
       "3               125              183   \n",
       "4               933             2297   \n",
       "\n",
       "                                               Elite  User_Fans  \\\n",
       "0                2015,2016,2017,2018,2019,20,20,2021         51   \n",
       "1  2012,2013,2014,2015,2016,2017,2018,2019,20,20,...         30   \n",
       "2  2012,2013,2014,2015,2016,2017,2018,2019,20,20,...         76   \n",
       "3                                     2015,2016,2017         37   \n",
       "4           2014,2015,2016,2017,2018,2019,20,20,2021        105   \n",
       "\n",
       "   Users_Ave_Star  \n",
       "0            4.20  \n",
       "1            4.12  \n",
       "2            4.05  \n",
       "3            3.99  \n",
       "4            3.79  "
      ]
     },
     "execution_count": 2,
     "metadata": {},
     "output_type": "execute_result"
    }
   ],
   "source": [
    "data = pd.read_csv(\"Data_Final\")\n",
    "data.head()"
   ]
  },
  {
   "cell_type": "code",
   "execution_count": 3,
   "metadata": {},
   "outputs": [
    {
     "data": {
      "text/plain": [
       "(53845, 18)"
      ]
     },
     "execution_count": 3,
     "metadata": {},
     "output_type": "execute_result"
    }
   ],
   "source": [
    "data.shape"
   ]
  },
  {
   "cell_type": "code",
   "execution_count": 4,
   "metadata": {},
   "outputs": [
    {
     "data": {
      "text/plain": [
       "Santa Barbara                       42501\n",
       "Goleta                               6009\n",
       "Carpinteria                          2557\n",
       "Isla Vista                           1425\n",
       "Montecito                             848\n",
       "Summerland                            406\n",
       "Santa  Barbara                         20\n",
       "Santa Clara                            15\n",
       "Truckee                                13\n",
       "Mission Canyon                         10\n",
       "Cerritos                               10\n",
       "Santa Barbara                           6\n",
       "Santa Barbra                            4\n",
       "Real Goleta                             4\n",
       "Los Angeles                             3\n",
       "Santa Maria                             3\n",
       "Salinas                                 2\n",
       "Sparks                                  2\n",
       "West Hill                               1\n",
       "Reno                                    1\n",
       "Port Hueneme                            1\n",
       "Santa Barbara & Ventura Counties        1\n",
       "Aliso Viejo                             1\n",
       "South Lake Tahoe                        1\n",
       "Kings Beach                             1\n",
       "Name: City, dtype: int64"
      ]
     },
     "execution_count": 4,
     "metadata": {},
     "output_type": "execute_result"
    }
   ],
   "source": [
    "data[\"City\"].value_counts()"
   ]
  },
  {
   "cell_type": "code",
   "execution_count": 5,
   "metadata": {},
   "outputs": [
    {
     "data": {
      "text/plain": [
       "5.0    21388\n",
       "4.0    18655\n",
       "3.0     8445\n",
       "2.0     3460\n",
       "1.0     1897\n",
       "Name: Star, dtype: int64"
      ]
     },
     "execution_count": 5,
     "metadata": {},
     "output_type": "execute_result"
    }
   ],
   "source": [
    "data[\"Star\"].value_counts()"
   ]
  },
  {
   "cell_type": "code",
   "execution_count": 6,
   "metadata": {},
   "outputs": [
    {
     "data": {
      "text/plain": [
       "13802"
      ]
     },
     "execution_count": 6,
     "metadata": {},
     "output_type": "execute_result"
    }
   ],
   "source": [
    "data[\"Star\"].value_counts()[1] + data[\"Star\"].value_counts()[2] + data[\"Star\"].value_counts()[3]"
   ]
  },
  {
   "cell_type": "code",
   "execution_count": 7,
   "metadata": {},
   "outputs": [
    {
     "data": {
      "text/plain": [
       "40043"
      ]
     },
     "execution_count": 7,
     "metadata": {},
     "output_type": "execute_result"
    }
   ],
   "source": [
    "data[\"Star\"].value_counts()[4] + data[\"Star\"].value_counts()[5]"
   ]
  },
  {
   "cell_type": "code",
   "execution_count": 8,
   "metadata": {},
   "outputs": [],
   "source": [
    "documents = []\n",
    "X = data.Review\n",
    "stemmer = WordNetLemmatizer()\n",
    "for i in range(0, len(X)):\n",
    "    # Remove all the special characters, like parathesis\n",
    "    document = re.sub(r'\\W', ' ', str(X[i]))\n",
    "    # remove all single characters: like a, b, c, d\n",
    "    document = re.sub(r'\\s+[a-zA-Z]\\s+', ' ', document)\n",
    "    # Remove single characters from the start\n",
    "    document = re.sub(r'\\^[a-zA-Z]\\s+', ' ', document)\n",
    "    # Substituting multiple spaces with single space\n",
    "    document = re.sub(r'\\s+', ' ', document, flags=re.I)\n",
    "    # Removing prefixed 'b'\n",
    "    document = re.sub(r'^b\\s+', '', document)\n",
    "    # Converting to Lowercase\n",
    "    document = document.lower()\n",
    "    # Lemmatization\n",
    "    document = document.split()\n",
    "    document = [stemmer.lemmatize(word) for word in document]\n",
    "    document = ' '.join(document)\n",
    "    documents.append(document)"
   ]
  },
  {
   "cell_type": "code",
   "execution_count": 9,
   "metadata": {},
   "outputs": [
    {
     "data": {
      "text/plain": [
       "(53845, 73)"
      ]
     },
     "execution_count": 9,
     "metadata": {},
     "output_type": "execute_result"
    }
   ],
   "source": [
    "vectorizer = CountVectorizer(max_features=1500, min_df=0.1, max_df=0.7, stop_words=stopwords.words('english'))\n",
    "X = vectorizer.fit_transform(documents).toarray()\n",
    "X.shape"
   ]
  },
  {
   "cell_type": "code",
   "execution_count": 10,
   "metadata": {},
   "outputs": [],
   "source": [
    "# f_n = open(\"negative-words.txt\", \"r\")\n",
    "# Negative_words = f_n.readlines()\n",
    "# f_p = open(\"positive-words.txt\", \"r\")\n",
    "# Positive_words = f_p.readlines()\n",
    "# Voca = [i.rstrip('\\n') for i in Positive_words] + [i.rstrip('\\n') for i in Negative_words]\n",
    "# vectorizer = CountVectorizer(vocabulary=np.unique(Voca))\n",
    "# X = vectorizer.fit_transform(documents).toarray()\n",
    "# X.shape"
   ]
  },
  {
   "cell_type": "code",
   "execution_count": 11,
   "metadata": {},
   "outputs": [
    {
     "data": {
      "text/plain": [
       "(53845, 37)"
      ]
     },
     "execution_count": 11,
     "metadata": {},
     "output_type": "execute_result"
    }
   ],
   "source": [
    "pca = PCA(n_components=0.8)\n",
    "X_pca = pca.fit_transform(X)\n",
    "X_pca.shape"
   ]
  },
  {
   "cell_type": "code",
   "execution_count": 12,
   "metadata": {},
   "outputs": [
    {
     "name": "stdout",
     "output_type": "stream",
     "text": [
      "[0.31175142 0.04982528 0.03231102 0.02612244 0.02551691 0.02385821\n",
      " 0.02109604 0.01812277 0.01721323 0.01538586 0.01508694 0.0139708\n",
      " 0.01350124 0.01282562 0.0125104  0.01193479 0.01126736 0.01102034\n",
      " 0.01085519 0.01025151 0.00998925 0.00987464 0.00955838 0.00922996\n",
      " 0.00900075 0.00869201 0.00847508 0.00837253 0.00825953 0.00795239\n",
      " 0.00779572 0.00771448 0.00753718 0.0073548  0.0072956  0.00727082\n",
      " 0.00715245]\n"
     ]
    }
   ],
   "source": [
    "print(pca.explained_variance_ratio_)"
   ]
  }
 ],
 "metadata": {
  "kernelspec": {
   "display_name": "Python 3.8.5 ('base')",
   "language": "python",
   "name": "python3"
  },
  "language_info": {
   "codemirror_mode": {
    "name": "ipython",
    "version": 3
   },
   "file_extension": ".py",
   "mimetype": "text/x-python",
   "name": "python",
   "nbconvert_exporter": "python",
   "pygments_lexer": "ipython3",
   "version": "3.8.5"
  },
  "orig_nbformat": 4,
  "vscode": {
   "interpreter": {
    "hash": "7b14b64b704d0d55ebf9abee5451b3f35350357e70a4a4455d997089f1b38f76"
   }
  }
 },
 "nbformat": 4,
 "nbformat_minor": 2
}
