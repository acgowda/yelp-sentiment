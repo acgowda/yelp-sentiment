{
 "cells": [
  {
   "cell_type": "code",
   "execution_count": 4,
   "metadata": {},
   "outputs": [],
   "source": [
    "import numpy as np\n",
    "import pandas as pd\n",
    "import matplotlib.pyplot as plt\n",
    "\n",
    "import re\n",
    "import nltk\n",
    "from nltk.corpus import stopwords\n",
    "from nltk.stem import WordNetLemmatizer\n",
    "\n",
    "from sklearn.feature_extraction.text import CountVectorizer\n",
    "from sklearn.decomposition import PCA"
   ]
  },
  {
   "cell_type": "markdown",
   "metadata": {},
   "source": [
    "# Import Data"
   ]
  },
  {
   "cell_type": "code",
   "execution_count": 36,
   "metadata": {},
   "outputs": [
    {
     "data": {
      "text/html": [
       "<div>\n",
       "<style scoped>\n",
       "    .dataframe tbody tr th:only-of-type {\n",
       "        vertical-align: middle;\n",
       "    }\n",
       "\n",
       "    .dataframe tbody tr th {\n",
       "        vertical-align: top;\n",
       "    }\n",
       "\n",
       "    .dataframe thead th {\n",
       "        text-align: right;\n",
       "    }\n",
       "</style>\n",
       "<table border=\"1\" class=\"dataframe\">\n",
       "  <thead>\n",
       "    <tr style=\"text-align: right;\">\n",
       "      <th></th>\n",
       "      <th>User_id</th>\n",
       "      <th>Bus_id</th>\n",
       "      <th>Star</th>\n",
       "      <th>Useful</th>\n",
       "      <th>Cool</th>\n",
       "      <th>Funny</th>\n",
       "      <th>Review</th>\n",
       "      <th>State</th>\n",
       "      <th>City</th>\n",
       "      <th>Bus_Ave_Star</th>\n",
       "      <th>User_Review_count</th>\n",
       "      <th>User_Useful_count</th>\n",
       "      <th>User_Funny_count</th>\n",
       "      <th>User_Cool_count</th>\n",
       "      <th>Elite</th>\n",
       "      <th>User_Fans</th>\n",
       "      <th>Users_Ave_Star</th>\n",
       "    </tr>\n",
       "  </thead>\n",
       "  <tbody>\n",
       "    <tr>\n",
       "      <th>0</th>\n",
       "      <td>4hBhtCSgoxkrFgHa4YAD-w</td>\n",
       "      <td>bbEXAEFr4RYHLlZ-HFssTA</td>\n",
       "      <td>5.0</td>\n",
       "      <td>0</td>\n",
       "      <td>0</td>\n",
       "      <td>0</td>\n",
       "      <td>Great burgers,fries and salad!  Burgers have a...</td>\n",
       "      <td>CA</td>\n",
       "      <td>Goleta</td>\n",
       "      <td>4.0</td>\n",
       "      <td>922</td>\n",
       "      <td>1687</td>\n",
       "      <td>694</td>\n",
       "      <td>1070</td>\n",
       "      <td>2015,2016,2017,2018,2019,20,20,2021</td>\n",
       "      <td>51</td>\n",
       "      <td>4.20</td>\n",
       "    </tr>\n",
       "    <tr>\n",
       "      <th>1</th>\n",
       "      <td>JYYYKt6TdVA4ng9lLcXt_g</td>\n",
       "      <td>SZU9c8V2GuREDN5KgyHFJw</td>\n",
       "      <td>5.0</td>\n",
       "      <td>0</td>\n",
       "      <td>0</td>\n",
       "      <td>0</td>\n",
       "      <td>We were a bit weary about trying the Shellfish...</td>\n",
       "      <td>CA</td>\n",
       "      <td>Santa Barbara</td>\n",
       "      <td>4.0</td>\n",
       "      <td>338</td>\n",
       "      <td>800</td>\n",
       "      <td>144</td>\n",
       "      <td>353</td>\n",
       "      <td>2012,2013,2014,2015,2016,2017,2018,2019,20,20,...</td>\n",
       "      <td>30</td>\n",
       "      <td>4.12</td>\n",
       "    </tr>\n",
       "    <tr>\n",
       "      <th>2</th>\n",
       "      <td>Uk3X2AypU8AqvcYEVf7s6Q</td>\n",
       "      <td>eL4lyE7LNoXEMvpcJ8WNVw</td>\n",
       "      <td>3.0</td>\n",
       "      <td>5</td>\n",
       "      <td>0</td>\n",
       "      <td>0</td>\n",
       "      <td>This was a tough one!   On the merits of the w...</td>\n",
       "      <td>CA</td>\n",
       "      <td>Santa Barbara</td>\n",
       "      <td>4.0</td>\n",
       "      <td>431</td>\n",
       "      <td>2126</td>\n",
       "      <td>1245</td>\n",
       "      <td>1476</td>\n",
       "      <td>2012,2013,2014,2015,2016,2017,2018,2019,20,20,...</td>\n",
       "      <td>76</td>\n",
       "      <td>4.05</td>\n",
       "    </tr>\n",
       "    <tr>\n",
       "      <th>3</th>\n",
       "      <td>LcqNuhqaYt5ekKzaRirmIg</td>\n",
       "      <td>SZU9c8V2GuREDN5KgyHFJw</td>\n",
       "      <td>5.0</td>\n",
       "      <td>2</td>\n",
       "      <td>1</td>\n",
       "      <td>0</td>\n",
       "      <td>I love trying fresh seafood on piers, wharfs a...</td>\n",
       "      <td>CA</td>\n",
       "      <td>Santa Barbara</td>\n",
       "      <td>4.0</td>\n",
       "      <td>258</td>\n",
       "      <td>452</td>\n",
       "      <td>125</td>\n",
       "      <td>183</td>\n",
       "      <td>2015,2016,2017</td>\n",
       "      <td>37</td>\n",
       "      <td>3.99</td>\n",
       "    </tr>\n",
       "    <tr>\n",
       "      <th>4</th>\n",
       "      <td>gasLVm0KRwrVhPGRcqATjw</td>\n",
       "      <td>CHh0ZFrQcsk4boOItr2Zuw</td>\n",
       "      <td>4.0</td>\n",
       "      <td>1</td>\n",
       "      <td>2</td>\n",
       "      <td>0</td>\n",
       "      <td>I stopped in because I was hungry for some sna...</td>\n",
       "      <td>CA</td>\n",
       "      <td>Carpinteria</td>\n",
       "      <td>3.0</td>\n",
       "      <td>1638</td>\n",
       "      <td>2658</td>\n",
       "      <td>933</td>\n",
       "      <td>2297</td>\n",
       "      <td>2014,2015,2016,2017,2018,2019,20,20,2021</td>\n",
       "      <td>105</td>\n",
       "      <td>3.79</td>\n",
       "    </tr>\n",
       "  </tbody>\n",
       "</table>\n",
       "</div>"
      ],
      "text/plain": [
       "                  User_id                  Bus_id  Star  Useful  Cool  Funny  \\\n",
       "0  4hBhtCSgoxkrFgHa4YAD-w  bbEXAEFr4RYHLlZ-HFssTA   5.0       0     0      0   \n",
       "1  JYYYKt6TdVA4ng9lLcXt_g  SZU9c8V2GuREDN5KgyHFJw   5.0       0     0      0   \n",
       "2  Uk3X2AypU8AqvcYEVf7s6Q  eL4lyE7LNoXEMvpcJ8WNVw   3.0       5     0      0   \n",
       "3  LcqNuhqaYt5ekKzaRirmIg  SZU9c8V2GuREDN5KgyHFJw   5.0       2     1      0   \n",
       "4  gasLVm0KRwrVhPGRcqATjw  CHh0ZFrQcsk4boOItr2Zuw   4.0       1     2      0   \n",
       "\n",
       "                                              Review State           City  \\\n",
       "0  Great burgers,fries and salad!  Burgers have a...    CA         Goleta   \n",
       "1  We were a bit weary about trying the Shellfish...    CA  Santa Barbara   \n",
       "2  This was a tough one!   On the merits of the w...    CA  Santa Barbara   \n",
       "3  I love trying fresh seafood on piers, wharfs a...    CA  Santa Barbara   \n",
       "4  I stopped in because I was hungry for some sna...    CA    Carpinteria   \n",
       "\n",
       "   Bus_Ave_Star  User_Review_count  User_Useful_count  User_Funny_count  \\\n",
       "0           4.0                922               1687               694   \n",
       "1           4.0                338                800               144   \n",
       "2           4.0                431               2126              1245   \n",
       "3           4.0                258                452               125   \n",
       "4           3.0               1638               2658               933   \n",
       "\n",
       "   User_Cool_count                                              Elite  \\\n",
       "0             1070                2015,2016,2017,2018,2019,20,20,2021   \n",
       "1              353  2012,2013,2014,2015,2016,2017,2018,2019,20,20,...   \n",
       "2             1476  2012,2013,2014,2015,2016,2017,2018,2019,20,20,...   \n",
       "3              183                                     2015,2016,2017   \n",
       "4             2297           2014,2015,2016,2017,2018,2019,20,20,2021   \n",
       "\n",
       "   User_Fans  Users_Ave_Star  \n",
       "0         51            4.20  \n",
       "1         30            4.12  \n",
       "2         76            4.05  \n",
       "3         37            3.99  \n",
       "4        105            3.79  "
      ]
     },
     "execution_count": 36,
     "metadata": {},
     "output_type": "execute_result"
    }
   ],
   "source": [
    "data = pd.read_csv(\"Data_Final\", index_col = 0)\n",
    "data.head()"
   ]
  },
  {
   "cell_type": "code",
   "execution_count": 6,
   "metadata": {},
   "outputs": [
    {
     "data": {
      "text/plain": [
       "(53845, 17)"
      ]
     },
     "execution_count": 6,
     "metadata": {},
     "output_type": "execute_result"
    }
   ],
   "source": [
    "data.shape"
   ]
  },
  {
   "cell_type": "code",
   "execution_count": 7,
   "metadata": {},
   "outputs": [
    {
     "data": {
      "text/plain": [
       "Santa Barbara                       42501\n",
       "Goleta                               6009\n",
       "Carpinteria                          2557\n",
       "Isla Vista                           1425\n",
       "Montecito                             848\n",
       "Summerland                            406\n",
       "Santa  Barbara                         20\n",
       "Santa Clara                            15\n",
       "Truckee                                13\n",
       "Mission Canyon                         10\n",
       "Cerritos                               10\n",
       "Santa Barbara                           6\n",
       "Santa Barbra                            4\n",
       "Real Goleta                             4\n",
       "Santa Maria                             3\n",
       "Los Angeles                             3\n",
       "Sparks                                  2\n",
       "Salinas                                 2\n",
       "Santa Barbara & Ventura Counties        1\n",
       "Aliso Viejo                             1\n",
       "Reno                                    1\n",
       "South Lake Tahoe                        1\n",
       "Port Hueneme                            1\n",
       "Kings Beach                             1\n",
       "West Hill                               1\n",
       "Name: City, dtype: int64"
      ]
     },
     "execution_count": 7,
     "metadata": {},
     "output_type": "execute_result"
    }
   ],
   "source": [
    "data[\"City\"].value_counts()"
   ]
  },
  {
   "cell_type": "code",
   "execution_count": 8,
   "metadata": {},
   "outputs": [
    {
     "data": {
      "text/plain": [
       "0.0010028786331135668"
      ]
     },
     "execution_count": 8,
     "metadata": {},
     "output_type": "execute_result"
    }
   ],
   "source": [
    "(1 + 1 + 1 + 1 + 1 + 1 + 2 + 2 + 3 + 3 + 10 + 13 + 15) / 53845"
   ]
  },
  {
   "cell_type": "code",
   "execution_count": 9,
   "metadata": {},
   "outputs": [
    {
     "data": {
      "text/plain": [
       "0.7898226390565513"
      ]
     },
     "execution_count": 9,
     "metadata": {},
     "output_type": "execute_result"
    }
   ],
   "source": [
    "(42501 + 20 + 6 + 1) / 53845"
   ]
  },
  {
   "cell_type": "code",
   "execution_count": 11,
   "metadata": {},
   "outputs": [
    {
     "data": {
      "text/plain": [
       "[0.397214226019129,\n",
       " 0.346457424087659,\n",
       " 0.15683907512303835,\n",
       " 0.06425851982542483,\n",
       " 0.03523075494474882]"
      ]
     },
     "execution_count": 11,
     "metadata": {},
     "output_type": "execute_result"
    }
   ],
   "source": [
    "list(data[\"Star\"].value_counts() / data.shape[0])"
   ]
  },
  {
   "cell_type": "code",
   "execution_count": 12,
   "metadata": {},
   "outputs": [
    {
     "data": {
      "image/png": "[encoded data removed]",
      "text/plain": [
       "<Figure size 432x288 with 1 Axes>"
      ]
     },
     "metadata": {},
     "output_type": "display_data"
    }
   ],
   "source": [
    "# Pie chart, where the slices will be ordered and plotted counter-clockwise:\n",
    "labels = data[\"Star\"].unique()\n",
    "sizes = data[\"Star\"].value_counts()\n",
    "\n",
    "fig1, ax1 = plt.subplots()\n",
    "ax1.pie(sizes, labels=labels, autopct='%1.1f%%',\n",
    "        shadow=True, startangle=90)\n",
    "ax1.axis('equal')  # Equal aspect ratio ensures that pie is drawn as a circle.\n",
    "\n",
    "plt.show()"
   ]
  },
  {
   "cell_type": "markdown",
   "metadata": {},
   "source": [
    "# Pre-processing Data"
   ]
  },
  {
   "cell_type": "code",
   "execution_count": 18,
   "metadata": {},
   "outputs": [
    {
     "data": {
      "text/plain": [
       "5.0     6026\n",
       "3.0     5537\n",
       "6.0     5263\n",
       "4.0     5047\n",
       "2.0     4125\n",
       "7.0     2842\n",
       "10.0    2448\n",
       "8.0     2414\n",
       "11.0    2103\n",
       "1.0     1754\n",
       "9.0     1694\n",
       "12.0    1273\n",
       "13.0    1008\n",
       "14.0     599\n",
       "15.0     187\n",
       "16.0      98\n",
       "Name: Elite_Count, dtype: int64"
      ]
     },
     "execution_count": 18,
     "metadata": {},
     "output_type": "execute_result"
    }
   ],
   "source": [
    "data[\"Elite\"] = data[\"Elite\"].str.replace(\"20,20\", \"2020\").str.split(\",\")\n",
    "data[\"Elite_Count\"] = data[\"Elite\"].str.len()\n",
    "data[\"Elite_Count\"].value_counts()"
   ]
  },
  {
   "cell_type": "code",
   "execution_count": 19,
   "metadata": {},
   "outputs": [
    {
     "data": {
      "text/plain": [
       "1    40043\n",
       "0    13802\n",
       "Name: target, dtype: int64"
      ]
     },
     "execution_count": 19,
     "metadata": {},
     "output_type": "execute_result"
    }
   ],
   "source": [
    "data[\"target\"] = np.where(data[\"Star\"] > 3, 1, 0)\n",
    "data[\"target\"].value_counts()"
   ]
  },
  {
   "cell_type": "code",
   "execution_count": 20,
   "metadata": {},
   "outputs": [
    {
     "data": {
      "image/png": "[encoded data removed]",
      "text/plain": [
       "<Figure size 432x288 with 1 Axes>"
      ]
     },
     "metadata": {},
     "output_type": "display_data"
    }
   ],
   "source": [
    "# Pie chart, where the slices will be ordered and plotted counter-clockwise:\n",
    "labels = data[\"target\"].unique()\n",
    "sizes = data[\"target\"].value_counts()\n",
    "\n",
    "fig1, ax1 = plt.subplots()\n",
    "ax1.pie(sizes, labels=labels, autopct='%1.1f%%',\n",
    "        shadow=True, startangle=90)\n",
    "ax1.axis('equal')  # Equal aspect ratio ensures that pie is drawn as a circle.\n",
    "\n",
    "plt.show()"
   ]
  },
  {
   "cell_type": "code",
   "execution_count": 23,
   "metadata": {},
   "outputs": [],
   "source": [
    "documents = []\n",
    "X = data.Review\n",
    "stemmer = WordNetLemmatizer()\n",
    "for i in range(0, len(X)):\n",
    "    # Remove all the special characters, like parathesis\n",
    "    document = re.sub(r'\\W', ' ', str(X[i]))\n",
    "    # remove all single characters: like a, b, c, d\n",
    "    document = re.sub(r'\\s+[a-zA-Z]\\s+', ' ', document)\n",
    "    # Remove single characters from the start\n",
    "    document = re.sub(r'\\^[a-zA-Z]\\s+', ' ', document)\n",
    "    # Substituting multiple spaces with single space\n",
    "    document = re.sub(r'\\s+', ' ', document, flags=re.I)\n",
    "    # Removing prefixed 'b'\n",
    "    document = re.sub(r'^b\\s+', '', document)\n",
    "    # Converting to Lowercase\n",
    "    document = document.lower()\n",
    "    # Lemmatization\n",
    "    document = document.split()\n",
    "    document = [stemmer.lemmatize(word) for word in document]\n",
    "    document = ' '.join(document)\n",
    "    documents.append(document)"
   ]
  },
  {
   "cell_type": "code",
   "execution_count": 24,
   "metadata": {},
   "outputs": [
    {
     "data": {
      "text/plain": [
       "(53845, 73)"
      ]
     },
     "execution_count": 24,
     "metadata": {},
     "output_type": "execute_result"
    }
   ],
   "source": [
    "vectorizer = CountVectorizer(max_features=1500, min_df=0.1, max_df=0.7, stop_words=stopwords.words('english'))\n",
    "X = vectorizer.fit_transform(documents).toarray()\n",
    "X.shape"
   ]
  },
  {
   "cell_type": "code",
   "execution_count": 25,
   "metadata": {},
   "outputs": [],
   "source": [
    "# f_n = open(\"negative-words.txt\", \"r\")\n",
    "# Negative_words = f_n.readlines()\n",
    "# f_p = open(\"positive-words.txt\", \"r\")\n",
    "# Positive_words = f_p.readlines()\n",
    "# Voca = [i.rstrip('\\n') for i in Positive_words] + [i.rstrip('\\n') for i in Negative_words]\n",
    "# vectorizer = CountVectorizer(vocabulary=np.unique(Voca))\n",
    "# X = vectorizer.fit_transform(documents).toarray()\n",
    "# X.shape"
   ]
  },
  {
   "cell_type": "markdown",
   "metadata": {},
   "source": [
    "# Perform PCA on Word Vectors"
   ]
  },
  {
   "cell_type": "code",
   "execution_count": 26,
   "metadata": {},
   "outputs": [
    {
     "data": {
      "text/plain": [
       "(53845, 37)"
      ]
     },
     "execution_count": 26,
     "metadata": {},
     "output_type": "execute_result"
    }
   ],
   "source": [
    "pca = PCA(n_components=0.8)\n",
    "X_pca = pca.fit_transform(X)\n",
    "X_pca.shape"
   ]
  },
  {
   "cell_type": "code",
   "execution_count": 27,
   "metadata": {},
   "outputs": [
    {
     "name": "stdout",
     "output_type": "stream",
     "text": [
      "[0.31175142 0.04982528 0.03231102 0.02612244 0.02551691 0.02385821\n",
      " 0.02109604 0.01812277 0.01721323 0.01538586 0.01508694 0.0139708\n",
      " 0.01350124 0.01282562 0.0125104  0.01193479 0.01126736 0.01102034\n",
      " 0.01085519 0.01025151 0.00998925 0.00987464 0.00955838 0.00922996\n",
      " 0.00900075 0.00869201 0.00847508 0.00837253 0.00825953 0.00795239\n",
      " 0.00779572 0.00771448 0.00753718 0.0073548  0.0072956  0.00727082\n",
      " 0.00715245]\n"
     ]
    }
   ],
   "source": [
    "print(pca.explained_variance_ratio_)"
   ]
  },
  {
   "cell_type": "code",
   "execution_count": 28,
   "metadata": {},
   "outputs": [
    {
     "data": {
      "text/html": [
       "<div>\n",
       "<style scoped>\n",
       "    .dataframe tbody tr th:only-of-type {\n",
       "        vertical-align: middle;\n",
       "    }\n",
       "\n",
       "    .dataframe tbody tr th {\n",
       "        vertical-align: top;\n",
       "    }\n",
       "\n",
       "    .dataframe thead th {\n",
       "        text-align: right;\n",
       "    }\n",
       "</style>\n",
       "<table border=\"1\" class=\"dataframe\">\n",
       "  <thead>\n",
       "    <tr style=\"text-align: right;\">\n",
       "      <th></th>\n",
       "      <th>pc1</th>\n",
       "      <th>pc2</th>\n",
       "      <th>pc3</th>\n",
       "      <th>pc4</th>\n",
       "      <th>pc5</th>\n",
       "      <th>pc6</th>\n",
       "      <th>pc7</th>\n",
       "      <th>pc8</th>\n",
       "      <th>pc9</th>\n",
       "      <th>pc10</th>\n",
       "      <th>...</th>\n",
       "      <th>pc28</th>\n",
       "      <th>pc29</th>\n",
       "      <th>pc30</th>\n",
       "      <th>pc31</th>\n",
       "      <th>pc32</th>\n",
       "      <th>pc33</th>\n",
       "      <th>pc34</th>\n",
       "      <th>pc35</th>\n",
       "      <th>pc36</th>\n",
       "      <th>pc37</th>\n",
       "    </tr>\n",
       "  </thead>\n",
       "  <tbody>\n",
       "    <tr>\n",
       "      <th>0</th>\n",
       "      <td>-2.645244</td>\n",
       "      <td>-0.702487</td>\n",
       "      <td>0.201056</td>\n",
       "      <td>-0.111868</td>\n",
       "      <td>0.185435</td>\n",
       "      <td>-0.011252</td>\n",
       "      <td>-0.778872</td>\n",
       "      <td>-0.141824</td>\n",
       "      <td>0.074901</td>\n",
       "      <td>0.018021</td>\n",
       "      <td>...</td>\n",
       "      <td>0.117957</td>\n",
       "      <td>0.041555</td>\n",
       "      <td>0.313839</td>\n",
       "      <td>0.099993</td>\n",
       "      <td>-0.290924</td>\n",
       "      <td>-0.341080</td>\n",
       "      <td>0.740567</td>\n",
       "      <td>0.084053</td>\n",
       "      <td>-0.240109</td>\n",
       "      <td>0.241797</td>\n",
       "    </tr>\n",
       "    <tr>\n",
       "      <th>1</th>\n",
       "      <td>3.893357</td>\n",
       "      <td>0.114327</td>\n",
       "      <td>-1.502976</td>\n",
       "      <td>1.505943</td>\n",
       "      <td>-1.224943</td>\n",
       "      <td>0.756691</td>\n",
       "      <td>-1.896190</td>\n",
       "      <td>-0.445000</td>\n",
       "      <td>0.972648</td>\n",
       "      <td>1.103213</td>\n",
       "      <td>...</td>\n",
       "      <td>-0.686052</td>\n",
       "      <td>-0.068462</td>\n",
       "      <td>-0.180470</td>\n",
       "      <td>0.494082</td>\n",
       "      <td>0.138534</td>\n",
       "      <td>0.283003</td>\n",
       "      <td>-0.233702</td>\n",
       "      <td>0.468619</td>\n",
       "      <td>0.235116</td>\n",
       "      <td>0.155252</td>\n",
       "    </tr>\n",
       "    <tr>\n",
       "      <th>2</th>\n",
       "      <td>-0.754240</td>\n",
       "      <td>1.976188</td>\n",
       "      <td>2.397573</td>\n",
       "      <td>-1.900509</td>\n",
       "      <td>-0.826635</td>\n",
       "      <td>-1.611485</td>\n",
       "      <td>-0.007414</td>\n",
       "      <td>1.463028</td>\n",
       "      <td>1.524165</td>\n",
       "      <td>1.376494</td>\n",
       "      <td>...</td>\n",
       "      <td>-0.843222</td>\n",
       "      <td>-0.391905</td>\n",
       "      <td>-0.938738</td>\n",
       "      <td>0.021158</td>\n",
       "      <td>-0.128340</td>\n",
       "      <td>0.458312</td>\n",
       "      <td>-0.753753</td>\n",
       "      <td>-0.173154</td>\n",
       "      <td>-0.041786</td>\n",
       "      <td>1.288891</td>\n",
       "    </tr>\n",
       "    <tr>\n",
       "      <th>3</th>\n",
       "      <td>12.324839</td>\n",
       "      <td>-0.835426</td>\n",
       "      <td>-0.990203</td>\n",
       "      <td>-0.504175</td>\n",
       "      <td>-1.154556</td>\n",
       "      <td>-0.377879</td>\n",
       "      <td>0.445213</td>\n",
       "      <td>0.570649</td>\n",
       "      <td>0.597910</td>\n",
       "      <td>0.323739</td>\n",
       "      <td>...</td>\n",
       "      <td>0.335307</td>\n",
       "      <td>-1.174861</td>\n",
       "      <td>-1.418306</td>\n",
       "      <td>0.559443</td>\n",
       "      <td>-1.443027</td>\n",
       "      <td>-0.459170</td>\n",
       "      <td>0.342850</td>\n",
       "      <td>1.023919</td>\n",
       "      <td>0.924196</td>\n",
       "      <td>-1.487887</td>\n",
       "    </tr>\n",
       "    <tr>\n",
       "      <th>4</th>\n",
       "      <td>0.411222</td>\n",
       "      <td>-0.768758</td>\n",
       "      <td>-0.056776</td>\n",
       "      <td>-0.486688</td>\n",
       "      <td>-0.898242</td>\n",
       "      <td>-0.461462</td>\n",
       "      <td>0.064887</td>\n",
       "      <td>-0.791135</td>\n",
       "      <td>-0.874975</td>\n",
       "      <td>1.302617</td>\n",
       "      <td>...</td>\n",
       "      <td>0.032975</td>\n",
       "      <td>-0.110042</td>\n",
       "      <td>0.021370</td>\n",
       "      <td>0.366447</td>\n",
       "      <td>-0.445082</td>\n",
       "      <td>-0.456512</td>\n",
       "      <td>0.687945</td>\n",
       "      <td>0.127625</td>\n",
       "      <td>-0.354086</td>\n",
       "      <td>0.540395</td>\n",
       "    </tr>\n",
       "  </tbody>\n",
       "</table>\n",
       "<p>5 rows × 37 columns</p>\n",
       "</div>"
      ],
      "text/plain": [
       "         pc1       pc2       pc3       pc4       pc5       pc6       pc7  \\\n",
       "0  -2.645244 -0.702487  0.201056 -0.111868  0.185435 -0.011252 -0.778872   \n",
       "1   3.893357  0.114327 -1.502976  1.505943 -1.224943  0.756691 -1.896190   \n",
       "2  -0.754240  1.976188  2.397573 -1.900509 -0.826635 -1.611485 -0.007414   \n",
       "3  12.324839 -0.835426 -0.990203 -0.504175 -1.154556 -0.377879  0.445213   \n",
       "4   0.411222 -0.768758 -0.056776 -0.486688 -0.898242 -0.461462  0.064887   \n",
       "\n",
       "        pc8       pc9      pc10  ...      pc28      pc29      pc30      pc31  \\\n",
       "0 -0.141824  0.074901  0.018021  ...  0.117957  0.041555  0.313839  0.099993   \n",
       "1 -0.445000  0.972648  1.103213  ... -0.686052 -0.068462 -0.180470  0.494082   \n",
       "2  1.463028  1.524165  1.376494  ... -0.843222 -0.391905 -0.938738  0.021158   \n",
       "3  0.570649  0.597910  0.323739  ...  0.335307 -1.174861 -1.418306  0.559443   \n",
       "4 -0.791135 -0.874975  1.302617  ...  0.032975 -0.110042  0.021370  0.366447   \n",
       "\n",
       "       pc32      pc33      pc34      pc35      pc36      pc37  \n",
       "0 -0.290924 -0.341080  0.740567  0.084053 -0.240109  0.241797  \n",
       "1  0.138534  0.283003 -0.233702  0.468619  0.235116  0.155252  \n",
       "2 -0.128340  0.458312 -0.753753 -0.173154 -0.041786  1.288891  \n",
       "3 -1.443027 -0.459170  0.342850  1.023919  0.924196 -1.487887  \n",
       "4 -0.445082 -0.456512  0.687945  0.127625 -0.354086  0.540395  \n",
       "\n",
       "[5 rows x 37 columns]"
      ]
     },
     "execution_count": 28,
     "metadata": {},
     "output_type": "execute_result"
    }
   ],
   "source": [
    "pca_data = pd.DataFrame(data = X_pca)\n",
    "pca_data.columns = ['pc' + str(col+1) for col in pca_data.columns]\n",
    "pca_data.head()"
   ]
  },
  {
   "cell_type": "code",
   "execution_count": 29,
   "metadata": {},
   "outputs": [
    {
     "data": {
      "text/html": [
       "<div>\n",
       "<style scoped>\n",
       "    .dataframe tbody tr th:only-of-type {\n",
       "        vertical-align: middle;\n",
       "    }\n",
       "\n",
       "    .dataframe tbody tr th {\n",
       "        vertical-align: top;\n",
       "    }\n",
       "\n",
       "    .dataframe thead th {\n",
       "        text-align: right;\n",
       "    }\n",
       "</style>\n",
       "<table border=\"1\" class=\"dataframe\">\n",
       "  <thead>\n",
       "    <tr style=\"text-align: right;\">\n",
       "      <th></th>\n",
       "      <th>User_id</th>\n",
       "      <th>Bus_id</th>\n",
       "      <th>Star</th>\n",
       "      <th>Useful</th>\n",
       "      <th>Cool</th>\n",
       "      <th>Funny</th>\n",
       "      <th>Review</th>\n",
       "      <th>State</th>\n",
       "      <th>City</th>\n",
       "      <th>Bus_Ave_Star</th>\n",
       "      <th>...</th>\n",
       "      <th>pc28</th>\n",
       "      <th>pc29</th>\n",
       "      <th>pc30</th>\n",
       "      <th>pc31</th>\n",
       "      <th>pc32</th>\n",
       "      <th>pc33</th>\n",
       "      <th>pc34</th>\n",
       "      <th>pc35</th>\n",
       "      <th>pc36</th>\n",
       "      <th>pc37</th>\n",
       "    </tr>\n",
       "  </thead>\n",
       "  <tbody>\n",
       "    <tr>\n",
       "      <th>0</th>\n",
       "      <td>4hBhtCSgoxkrFgHa4YAD-w</td>\n",
       "      <td>bbEXAEFr4RYHLlZ-HFssTA</td>\n",
       "      <td>5.0</td>\n",
       "      <td>0</td>\n",
       "      <td>0</td>\n",
       "      <td>0</td>\n",
       "      <td>Great burgers,fries and salad!  Burgers have a...</td>\n",
       "      <td>CA</td>\n",
       "      <td>Goleta</td>\n",
       "      <td>4.0</td>\n",
       "      <td>...</td>\n",
       "      <td>0.117957</td>\n",
       "      <td>0.041555</td>\n",
       "      <td>0.313839</td>\n",
       "      <td>0.099993</td>\n",
       "      <td>-0.290924</td>\n",
       "      <td>-0.341080</td>\n",
       "      <td>0.740567</td>\n",
       "      <td>0.084053</td>\n",
       "      <td>-0.240109</td>\n",
       "      <td>0.241797</td>\n",
       "    </tr>\n",
       "    <tr>\n",
       "      <th>1</th>\n",
       "      <td>JYYYKt6TdVA4ng9lLcXt_g</td>\n",
       "      <td>SZU9c8V2GuREDN5KgyHFJw</td>\n",
       "      <td>5.0</td>\n",
       "      <td>0</td>\n",
       "      <td>0</td>\n",
       "      <td>0</td>\n",
       "      <td>We were a bit weary about trying the Shellfish...</td>\n",
       "      <td>CA</td>\n",
       "      <td>Santa Barbara</td>\n",
       "      <td>4.0</td>\n",
       "      <td>...</td>\n",
       "      <td>-0.686052</td>\n",
       "      <td>-0.068462</td>\n",
       "      <td>-0.180470</td>\n",
       "      <td>0.494082</td>\n",
       "      <td>0.138534</td>\n",
       "      <td>0.283003</td>\n",
       "      <td>-0.233702</td>\n",
       "      <td>0.468619</td>\n",
       "      <td>0.235116</td>\n",
       "      <td>0.155252</td>\n",
       "    </tr>\n",
       "    <tr>\n",
       "      <th>2</th>\n",
       "      <td>Uk3X2AypU8AqvcYEVf7s6Q</td>\n",
       "      <td>eL4lyE7LNoXEMvpcJ8WNVw</td>\n",
       "      <td>3.0</td>\n",
       "      <td>5</td>\n",
       "      <td>0</td>\n",
       "      <td>0</td>\n",
       "      <td>This was a tough one!   On the merits of the w...</td>\n",
       "      <td>CA</td>\n",
       "      <td>Santa Barbara</td>\n",
       "      <td>4.0</td>\n",
       "      <td>...</td>\n",
       "      <td>-0.843222</td>\n",
       "      <td>-0.391905</td>\n",
       "      <td>-0.938738</td>\n",
       "      <td>0.021158</td>\n",
       "      <td>-0.128340</td>\n",
       "      <td>0.458312</td>\n",
       "      <td>-0.753753</td>\n",
       "      <td>-0.173154</td>\n",
       "      <td>-0.041786</td>\n",
       "      <td>1.288891</td>\n",
       "    </tr>\n",
       "    <tr>\n",
       "      <th>3</th>\n",
       "      <td>LcqNuhqaYt5ekKzaRirmIg</td>\n",
       "      <td>SZU9c8V2GuREDN5KgyHFJw</td>\n",
       "      <td>5.0</td>\n",
       "      <td>2</td>\n",
       "      <td>1</td>\n",
       "      <td>0</td>\n",
       "      <td>I love trying fresh seafood on piers, wharfs a...</td>\n",
       "      <td>CA</td>\n",
       "      <td>Santa Barbara</td>\n",
       "      <td>4.0</td>\n",
       "      <td>...</td>\n",
       "      <td>0.335307</td>\n",
       "      <td>-1.174861</td>\n",
       "      <td>-1.418306</td>\n",
       "      <td>0.559443</td>\n",
       "      <td>-1.443027</td>\n",
       "      <td>-0.459170</td>\n",
       "      <td>0.342850</td>\n",
       "      <td>1.023919</td>\n",
       "      <td>0.924196</td>\n",
       "      <td>-1.487887</td>\n",
       "    </tr>\n",
       "    <tr>\n",
       "      <th>4</th>\n",
       "      <td>gasLVm0KRwrVhPGRcqATjw</td>\n",
       "      <td>CHh0ZFrQcsk4boOItr2Zuw</td>\n",
       "      <td>4.0</td>\n",
       "      <td>1</td>\n",
       "      <td>2</td>\n",
       "      <td>0</td>\n",
       "      <td>I stopped in because I was hungry for some sna...</td>\n",
       "      <td>CA</td>\n",
       "      <td>Carpinteria</td>\n",
       "      <td>3.0</td>\n",
       "      <td>...</td>\n",
       "      <td>0.032975</td>\n",
       "      <td>-0.110042</td>\n",
       "      <td>0.021370</td>\n",
       "      <td>0.366447</td>\n",
       "      <td>-0.445082</td>\n",
       "      <td>-0.456512</td>\n",
       "      <td>0.687945</td>\n",
       "      <td>0.127625</td>\n",
       "      <td>-0.354086</td>\n",
       "      <td>0.540395</td>\n",
       "    </tr>\n",
       "  </tbody>\n",
       "</table>\n",
       "<p>5 rows × 56 columns</p>\n",
       "</div>"
      ],
      "text/plain": [
       "                  User_id                  Bus_id  Star  Useful  Cool  Funny  \\\n",
       "0  4hBhtCSgoxkrFgHa4YAD-w  bbEXAEFr4RYHLlZ-HFssTA   5.0       0     0      0   \n",
       "1  JYYYKt6TdVA4ng9lLcXt_g  SZU9c8V2GuREDN5KgyHFJw   5.0       0     0      0   \n",
       "2  Uk3X2AypU8AqvcYEVf7s6Q  eL4lyE7LNoXEMvpcJ8WNVw   3.0       5     0      0   \n",
       "3  LcqNuhqaYt5ekKzaRirmIg  SZU9c8V2GuREDN5KgyHFJw   5.0       2     1      0   \n",
       "4  gasLVm0KRwrVhPGRcqATjw  CHh0ZFrQcsk4boOItr2Zuw   4.0       1     2      0   \n",
       "\n",
       "                                              Review State           City  \\\n",
       "0  Great burgers,fries and salad!  Burgers have a...    CA         Goleta   \n",
       "1  We were a bit weary about trying the Shellfish...    CA  Santa Barbara   \n",
       "2  This was a tough one!   On the merits of the w...    CA  Santa Barbara   \n",
       "3  I love trying fresh seafood on piers, wharfs a...    CA  Santa Barbara   \n",
       "4  I stopped in because I was hungry for some sna...    CA    Carpinteria   \n",
       "\n",
       "   Bus_Ave_Star  ...      pc28      pc29      pc30      pc31      pc32  \\\n",
       "0           4.0  ...  0.117957  0.041555  0.313839  0.099993 -0.290924   \n",
       "1           4.0  ... -0.686052 -0.068462 -0.180470  0.494082  0.138534   \n",
       "2           4.0  ... -0.843222 -0.391905 -0.938738  0.021158 -0.128340   \n",
       "3           4.0  ...  0.335307 -1.174861 -1.418306  0.559443 -1.443027   \n",
       "4           3.0  ...  0.032975 -0.110042  0.021370  0.366447 -0.445082   \n",
       "\n",
       "       pc33      pc34      pc35      pc36      pc37  \n",
       "0 -0.341080  0.740567  0.084053 -0.240109  0.241797  \n",
       "1  0.283003 -0.233702  0.468619  0.235116  0.155252  \n",
       "2  0.458312 -0.753753 -0.173154 -0.041786  1.288891  \n",
       "3 -0.459170  0.342850  1.023919  0.924196 -1.487887  \n",
       "4 -0.456512  0.687945  0.127625 -0.354086  0.540395  \n",
       "\n",
       "[5 rows x 56 columns]"
      ]
     },
     "execution_count": 29,
     "metadata": {},
     "output_type": "execute_result"
    }
   ],
   "source": [
    "data = pd.concat([data, pca_data], axis=1)\n",
    "data.head()"
   ]
  },
  {
   "cell_type": "code",
   "execution_count": 30,
   "metadata": {},
   "outputs": [
    {
     "data": {
      "text/plain": [
       "(53845, 56)"
      ]
     },
     "execution_count": 30,
     "metadata": {},
     "output_type": "execute_result"
    }
   ],
   "source": [
    "data.shape"
   ]
  },
  {
   "cell_type": "markdown",
   "metadata": {},
   "source": [
    "# Feature Selection"
   ]
  },
  {
   "cell_type": "code",
   "execution_count": 31,
   "metadata": {},
   "outputs": [],
   "source": [
    "feature_data = data.copy()\n",
    "feature_data.drop(columns = ['User_id', 'Bus_id', 'Star', 'State', 'Review', 'City', 'Elite'], inplace=True)"
   ]
  },
  {
   "cell_type": "code",
   "execution_count": 32,
   "metadata": {},
   "outputs": [
    {
     "data": {
      "text/html": [
       "<div>\n",
       "<style scoped>\n",
       "    .dataframe tbody tr th:only-of-type {\n",
       "        vertical-align: middle;\n",
       "    }\n",
       "\n",
       "    .dataframe tbody tr th {\n",
       "        vertical-align: top;\n",
       "    }\n",
       "\n",
       "    .dataframe thead th {\n",
       "        text-align: right;\n",
       "    }\n",
       "</style>\n",
       "<table border=\"1\" class=\"dataframe\">\n",
       "  <thead>\n",
       "    <tr style=\"text-align: right;\">\n",
       "      <th></th>\n",
       "      <th>Useful</th>\n",
       "      <th>Cool</th>\n",
       "      <th>Funny</th>\n",
       "      <th>Bus_Ave_Star</th>\n",
       "      <th>User_Review_count</th>\n",
       "      <th>User_Useful_count</th>\n",
       "      <th>User_Funny_count</th>\n",
       "      <th>User_Cool_count</th>\n",
       "      <th>User_Fans</th>\n",
       "      <th>Users_Ave_Star</th>\n",
       "      <th>...</th>\n",
       "      <th>pc28</th>\n",
       "      <th>pc29</th>\n",
       "      <th>pc30</th>\n",
       "      <th>pc31</th>\n",
       "      <th>pc32</th>\n",
       "      <th>pc33</th>\n",
       "      <th>pc34</th>\n",
       "      <th>pc35</th>\n",
       "      <th>pc36</th>\n",
       "      <th>pc37</th>\n",
       "    </tr>\n",
       "  </thead>\n",
       "  <tbody>\n",
       "    <tr>\n",
       "      <th>0</th>\n",
       "      <td>0</td>\n",
       "      <td>0</td>\n",
       "      <td>0</td>\n",
       "      <td>4.0</td>\n",
       "      <td>922</td>\n",
       "      <td>1687</td>\n",
       "      <td>694</td>\n",
       "      <td>1070</td>\n",
       "      <td>51</td>\n",
       "      <td>4.20</td>\n",
       "      <td>...</td>\n",
       "      <td>0.117957</td>\n",
       "      <td>0.041555</td>\n",
       "      <td>0.313839</td>\n",
       "      <td>0.099993</td>\n",
       "      <td>-0.290924</td>\n",
       "      <td>-0.341080</td>\n",
       "      <td>0.740567</td>\n",
       "      <td>0.084053</td>\n",
       "      <td>-0.240109</td>\n",
       "      <td>0.241797</td>\n",
       "    </tr>\n",
       "    <tr>\n",
       "      <th>1</th>\n",
       "      <td>0</td>\n",
       "      <td>0</td>\n",
       "      <td>0</td>\n",
       "      <td>4.0</td>\n",
       "      <td>338</td>\n",
       "      <td>800</td>\n",
       "      <td>144</td>\n",
       "      <td>353</td>\n",
       "      <td>30</td>\n",
       "      <td>4.12</td>\n",
       "      <td>...</td>\n",
       "      <td>-0.686052</td>\n",
       "      <td>-0.068462</td>\n",
       "      <td>-0.180470</td>\n",
       "      <td>0.494082</td>\n",
       "      <td>0.138534</td>\n",
       "      <td>0.283003</td>\n",
       "      <td>-0.233702</td>\n",
       "      <td>0.468619</td>\n",
       "      <td>0.235116</td>\n",
       "      <td>0.155252</td>\n",
       "    </tr>\n",
       "    <tr>\n",
       "      <th>2</th>\n",
       "      <td>5</td>\n",
       "      <td>0</td>\n",
       "      <td>0</td>\n",
       "      <td>4.0</td>\n",
       "      <td>431</td>\n",
       "      <td>2126</td>\n",
       "      <td>1245</td>\n",
       "      <td>1476</td>\n",
       "      <td>76</td>\n",
       "      <td>4.05</td>\n",
       "      <td>...</td>\n",
       "      <td>-0.843222</td>\n",
       "      <td>-0.391905</td>\n",
       "      <td>-0.938738</td>\n",
       "      <td>0.021158</td>\n",
       "      <td>-0.128340</td>\n",
       "      <td>0.458312</td>\n",
       "      <td>-0.753753</td>\n",
       "      <td>-0.173154</td>\n",
       "      <td>-0.041786</td>\n",
       "      <td>1.288891</td>\n",
       "    </tr>\n",
       "    <tr>\n",
       "      <th>3</th>\n",
       "      <td>2</td>\n",
       "      <td>1</td>\n",
       "      <td>0</td>\n",
       "      <td>4.0</td>\n",
       "      <td>258</td>\n",
       "      <td>452</td>\n",
       "      <td>125</td>\n",
       "      <td>183</td>\n",
       "      <td>37</td>\n",
       "      <td>3.99</td>\n",
       "      <td>...</td>\n",
       "      <td>0.335307</td>\n",
       "      <td>-1.174861</td>\n",
       "      <td>-1.418306</td>\n",
       "      <td>0.559443</td>\n",
       "      <td>-1.443027</td>\n",
       "      <td>-0.459170</td>\n",
       "      <td>0.342850</td>\n",
       "      <td>1.023919</td>\n",
       "      <td>0.924196</td>\n",
       "      <td>-1.487887</td>\n",
       "    </tr>\n",
       "    <tr>\n",
       "      <th>4</th>\n",
       "      <td>1</td>\n",
       "      <td>2</td>\n",
       "      <td>0</td>\n",
       "      <td>3.0</td>\n",
       "      <td>1638</td>\n",
       "      <td>2658</td>\n",
       "      <td>933</td>\n",
       "      <td>2297</td>\n",
       "      <td>105</td>\n",
       "      <td>3.79</td>\n",
       "      <td>...</td>\n",
       "      <td>0.032975</td>\n",
       "      <td>-0.110042</td>\n",
       "      <td>0.021370</td>\n",
       "      <td>0.366447</td>\n",
       "      <td>-0.445082</td>\n",
       "      <td>-0.456512</td>\n",
       "      <td>0.687945</td>\n",
       "      <td>0.127625</td>\n",
       "      <td>-0.354086</td>\n",
       "      <td>0.540395</td>\n",
       "    </tr>\n",
       "  </tbody>\n",
       "</table>\n",
       "<p>5 rows × 49 columns</p>\n",
       "</div>"
      ],
      "text/plain": [
       "   Useful  Cool  Funny  Bus_Ave_Star  User_Review_count  User_Useful_count  \\\n",
       "0       0     0      0           4.0                922               1687   \n",
       "1       0     0      0           4.0                338                800   \n",
       "2       5     0      0           4.0                431               2126   \n",
       "3       2     1      0           4.0                258                452   \n",
       "4       1     2      0           3.0               1638               2658   \n",
       "\n",
       "   User_Funny_count  User_Cool_count  User_Fans  Users_Ave_Star  ...  \\\n",
       "0               694             1070         51            4.20  ...   \n",
       "1               144              353         30            4.12  ...   \n",
       "2              1245             1476         76            4.05  ...   \n",
       "3               125              183         37            3.99  ...   \n",
       "4               933             2297        105            3.79  ...   \n",
       "\n",
       "       pc28      pc29      pc30      pc31      pc32      pc33      pc34  \\\n",
       "0  0.117957  0.041555  0.313839  0.099993 -0.290924 -0.341080  0.740567   \n",
       "1 -0.686052 -0.068462 -0.180470  0.494082  0.138534  0.283003 -0.233702   \n",
       "2 -0.843222 -0.391905 -0.938738  0.021158 -0.128340  0.458312 -0.753753   \n",
       "3  0.335307 -1.174861 -1.418306  0.559443 -1.443027 -0.459170  0.342850   \n",
       "4  0.032975 -0.110042  0.021370  0.366447 -0.445082 -0.456512  0.687945   \n",
       "\n",
       "       pc35      pc36      pc37  \n",
       "0  0.084053 -0.240109  0.241797  \n",
       "1  0.468619  0.235116  0.155252  \n",
       "2 -0.173154 -0.041786  1.288891  \n",
       "3  1.023919  0.924196 -1.487887  \n",
       "4  0.127625 -0.354086  0.540395  \n",
       "\n",
       "[5 rows x 49 columns]"
      ]
     },
     "execution_count": 32,
     "metadata": {},
     "output_type": "execute_result"
    }
   ],
   "source": [
    "feature_data.head()"
   ]
  },
  {
   "cell_type": "code",
   "execution_count": 17,
   "metadata": {},
   "outputs": [],
   "source": [
    "feature_data.to_csv('data.csv')"
   ]
  },
  {
   "cell_type": "code",
   "execution_count": 15,
   "metadata": {},
   "outputs": [],
   "source": [
    "import seaborn as sns"
   ]
  },
  {
   "cell_type": "code",
   "execution_count": 37,
   "metadata": {},
   "outputs": [
    {
     "data": {
      "text/plain": [
       "<matplotlib.axes._subplots.AxesSubplot at 0x7fc8b2a749d0>"
      ]
     },
     "execution_count": 37,
     "metadata": {},
     "output_type": "execute_result"
    },
    {
     "data": {
      "image/png": "[encoded data removed]",
      "text/plain": [
       "<Figure size 432x288 with 2 Axes>"
      ]
     },
     "metadata": {
      "needs_background": "light"
     },
     "output_type": "display_data"
    }
   ],
   "source": [
    "sns.heatmap(data.corr())"
   ]
  }
 ],
 "metadata": {
  "kernelspec": {
   "display_name": "Python 3.8.5 ('base')",
   "language": "python",
   "name": "python3"
  },
  "language_info": {
   "codemirror_mode": {
    "name": "ipython",
    "version": 3
   },
   "file_extension": ".py",
   "mimetype": "text/x-python",
   "name": "python",
   "nbconvert_exporter": "python",
   "pygments_lexer": "ipython3",
   "version": "3.8.5"
  },
  "orig_nbformat": 4,
  "vscode": {
   "interpreter": {
    "hash": "7b14b64b704d0d55ebf9abee5451b3f35350357e70a4a4455d997089f1b38f76"
   }
  }
 },
 "nbformat": 4,
 "nbformat_minor": 2
}
