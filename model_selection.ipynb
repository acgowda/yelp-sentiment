{
 "cells": [
  {
   "cell_type": "code",
   "execution_count": 28,
   "metadata": {},
   "outputs": [],
   "source": [
    "import numpy as np\n",
    "import pandas as pd\n",
    "import matplotlib.pyplot as plt\n",
    "\n",
    "from sklearn.linear_model import LogisticRegression\n",
    "from sklearn.metrics import classification_report, confusion_matrix\n",
    "\n",
    "from sklearn.ensemble import RandomForestClassifier\n",
    "\n",
    "from sklearn.discriminant_analysis import LinearDiscriminantAnalysis as LDA\n",
    "from sklearn.discriminant_analysis import QuadraticDiscriminantAnalysis as QDA\n",
    "\n",
    "from sklearn.feature_selection import RFECV\n",
    "from sklearn.model_selection import GridSearchCV, train_test_split\n",
    "from sklearn.model_selection import StratifiedKFold\n",
    "from sklearn.preprocessing import StandardScaler\n",
    "\n",
    "from sklearn.decomposition import PCA"
   ]
  },
  {
   "cell_type": "code",
   "execution_count": 2,
   "metadata": {},
   "outputs": [
    {
     "data": {
      "text/plain": [
       "(42418, 49)"
      ]
     },
     "execution_count": 2,
     "metadata": {},
     "output_type": "execute_result"
    }
   ],
   "source": [
    "data = pd.read_csv('feature_data.csv', index_col=0)\n",
    "data.dropna(inplace=True)\n",
    "\n",
    "# original shape is 53845 so 11427 rows with Nan's\n",
    "# could try back/forward-filling to improve model performance\n",
    "# with more kept data\n",
    "\n",
    "data.shape"
   ]
  },
  {
   "cell_type": "markdown",
   "metadata": {},
   "source": [
    "# Feature Selection\n",
    "Use Recursive Feature Elimination to select an optimal subset of features."
   ]
  },
  {
   "cell_type": "code",
   "execution_count": 3,
   "metadata": {},
   "outputs": [],
   "source": [
    "X, y = data.drop('target', axis=1), data['target']"
   ]
  },
  {
   "cell_type": "code",
   "execution_count": 4,
   "metadata": {},
   "outputs": [],
   "source": [
    "X_train, X_test, y_train, y_test = train_test_split(X, y, test_size=0.3, random_state=42)"
   ]
  },
  {
   "cell_type": "code",
   "execution_count": 5,
   "metadata": {},
   "outputs": [
    {
     "data": {
      "text/html": [
       "<div>\n",
       "<style scoped>\n",
       "    .dataframe tbody tr th:only-of-type {\n",
       "        vertical-align: middle;\n",
       "    }\n",
       "\n",
       "    .dataframe tbody tr th {\n",
       "        vertical-align: top;\n",
       "    }\n",
       "\n",
       "    .dataframe thead th {\n",
       "        text-align: right;\n",
       "    }\n",
       "</style>\n",
       "<table border=\"1\" class=\"dataframe\">\n",
       "  <thead>\n",
       "    <tr style=\"text-align: right;\">\n",
       "      <th></th>\n",
       "      <th>Useful</th>\n",
       "      <th>Cool</th>\n",
       "      <th>Funny</th>\n",
       "      <th>Bus_Ave_Star</th>\n",
       "      <th>User_Review_count</th>\n",
       "      <th>User_Useful_count</th>\n",
       "      <th>User_Funny_count</th>\n",
       "      <th>User_Cool_count</th>\n",
       "      <th>User_Fans</th>\n",
       "      <th>Users_Ave_Star</th>\n",
       "      <th>...</th>\n",
       "      <th>pc28</th>\n",
       "      <th>pc29</th>\n",
       "      <th>pc30</th>\n",
       "      <th>pc31</th>\n",
       "      <th>pc32</th>\n",
       "      <th>pc33</th>\n",
       "      <th>pc34</th>\n",
       "      <th>pc35</th>\n",
       "      <th>pc36</th>\n",
       "      <th>pc37</th>\n",
       "    </tr>\n",
       "  </thead>\n",
       "  <tbody>\n",
       "    <tr>\n",
       "      <th>0</th>\n",
       "      <td>-0.400972</td>\n",
       "      <td>-0.323647</td>\n",
       "      <td>-0.311805</td>\n",
       "      <td>-1.669866</td>\n",
       "      <td>-0.352567</td>\n",
       "      <td>-0.296032</td>\n",
       "      <td>-0.267627</td>\n",
       "      <td>-0.285993</td>\n",
       "      <td>-0.351219</td>\n",
       "      <td>-0.362147</td>\n",
       "      <td>...</td>\n",
       "      <td>-1.395348</td>\n",
       "      <td>0.292523</td>\n",
       "      <td>0.272443</td>\n",
       "      <td>-0.744305</td>\n",
       "      <td>-0.069176</td>\n",
       "      <td>1.214618</td>\n",
       "      <td>-1.370669</td>\n",
       "      <td>0.171317</td>\n",
       "      <td>-0.181786</td>\n",
       "      <td>-0.993078</td>\n",
       "    </tr>\n",
       "    <tr>\n",
       "      <th>1</th>\n",
       "      <td>-0.164486</td>\n",
       "      <td>-0.323647</td>\n",
       "      <td>-0.123632</td>\n",
       "      <td>0.075291</td>\n",
       "      <td>-0.435893</td>\n",
       "      <td>-0.370659</td>\n",
       "      <td>-0.297363</td>\n",
       "      <td>-0.327076</td>\n",
       "      <td>-0.459724</td>\n",
       "      <td>-1.299254</td>\n",
       "      <td>...</td>\n",
       "      <td>1.052607</td>\n",
       "      <td>0.337075</td>\n",
       "      <td>0.474454</td>\n",
       "      <td>-0.619009</td>\n",
       "      <td>-0.170364</td>\n",
       "      <td>-0.123836</td>\n",
       "      <td>-0.396163</td>\n",
       "      <td>0.144740</td>\n",
       "      <td>-0.527595</td>\n",
       "      <td>-0.809932</td>\n",
       "    </tr>\n",
       "    <tr>\n",
       "      <th>2</th>\n",
       "      <td>0.190243</td>\n",
       "      <td>-0.197643</td>\n",
       "      <td>-0.123632</td>\n",
       "      <td>-1.669866</td>\n",
       "      <td>0.018090</td>\n",
       "      <td>-0.308641</td>\n",
       "      <td>-0.263254</td>\n",
       "      <td>-0.296926</td>\n",
       "      <td>-0.356645</td>\n",
       "      <td>-0.537855</td>\n",
       "      <td>...</td>\n",
       "      <td>0.344104</td>\n",
       "      <td>-0.154971</td>\n",
       "      <td>0.095922</td>\n",
       "      <td>0.480437</td>\n",
       "      <td>-0.713832</td>\n",
       "      <td>0.123307</td>\n",
       "      <td>1.547221</td>\n",
       "      <td>-0.734104</td>\n",
       "      <td>-0.215047</td>\n",
       "      <td>0.877633</td>\n",
       "    </tr>\n",
       "    <tr>\n",
       "      <th>3</th>\n",
       "      <td>-0.282729</td>\n",
       "      <td>-0.323647</td>\n",
       "      <td>-0.311805</td>\n",
       "      <td>0.075291</td>\n",
       "      <td>-0.589616</td>\n",
       "      <td>-0.349547</td>\n",
       "      <td>-0.304360</td>\n",
       "      <td>-0.327076</td>\n",
       "      <td>-0.389196</td>\n",
       "      <td>-0.801416</td>\n",
       "      <td>...</td>\n",
       "      <td>2.870359</td>\n",
       "      <td>0.479456</td>\n",
       "      <td>-2.305962</td>\n",
       "      <td>0.556787</td>\n",
       "      <td>-1.468661</td>\n",
       "      <td>1.928297</td>\n",
       "      <td>-0.835789</td>\n",
       "      <td>1.403522</td>\n",
       "      <td>1.584039</td>\n",
       "      <td>-2.115051</td>\n",
       "    </tr>\n",
       "    <tr>\n",
       "      <th>4</th>\n",
       "      <td>9.767933</td>\n",
       "      <td>10.638748</td>\n",
       "      <td>12.107606</td>\n",
       "      <td>-2.542444</td>\n",
       "      <td>-0.233325</td>\n",
       "      <td>3.787467</td>\n",
       "      <td>3.812994</td>\n",
       "      <td>4.239769</td>\n",
       "      <td>3.516967</td>\n",
       "      <td>0.457822</td>\n",
       "      <td>...</td>\n",
       "      <td>-0.337045</td>\n",
       "      <td>0.073751</td>\n",
       "      <td>-1.516841</td>\n",
       "      <td>1.152527</td>\n",
       "      <td>-0.660889</td>\n",
       "      <td>-1.343177</td>\n",
       "      <td>-0.015457</td>\n",
       "      <td>-2.437355</td>\n",
       "      <td>3.727537</td>\n",
       "      <td>-0.007040</td>\n",
       "    </tr>\n",
       "  </tbody>\n",
       "</table>\n",
       "<p>5 rows × 48 columns</p>\n",
       "</div>"
      ],
      "text/plain": [
       "     Useful       Cool      Funny  Bus_Ave_Star  User_Review_count  \\\n",
       "0 -0.400972  -0.323647  -0.311805     -1.669866          -0.352567   \n",
       "1 -0.164486  -0.323647  -0.123632      0.075291          -0.435893   \n",
       "2  0.190243  -0.197643  -0.123632     -1.669866           0.018090   \n",
       "3 -0.282729  -0.323647  -0.311805      0.075291          -0.589616   \n",
       "4  9.767933  10.638748  12.107606     -2.542444          -0.233325   \n",
       "\n",
       "   User_Useful_count  User_Funny_count  User_Cool_count  User_Fans  \\\n",
       "0          -0.296032         -0.267627        -0.285993  -0.351219   \n",
       "1          -0.370659         -0.297363        -0.327076  -0.459724   \n",
       "2          -0.308641         -0.263254        -0.296926  -0.356645   \n",
       "3          -0.349547         -0.304360        -0.327076  -0.389196   \n",
       "4           3.787467          3.812994         4.239769   3.516967   \n",
       "\n",
       "   Users_Ave_Star  ...      pc28      pc29      pc30      pc31      pc32  \\\n",
       "0       -0.362147  ... -1.395348  0.292523  0.272443 -0.744305 -0.069176   \n",
       "1       -1.299254  ...  1.052607  0.337075  0.474454 -0.619009 -0.170364   \n",
       "2       -0.537855  ...  0.344104 -0.154971  0.095922  0.480437 -0.713832   \n",
       "3       -0.801416  ...  2.870359  0.479456 -2.305962  0.556787 -1.468661   \n",
       "4        0.457822  ... -0.337045  0.073751 -1.516841  1.152527 -0.660889   \n",
       "\n",
       "       pc33      pc34      pc35      pc36      pc37  \n",
       "0  1.214618 -1.370669  0.171317 -0.181786 -0.993078  \n",
       "1 -0.123836 -0.396163  0.144740 -0.527595 -0.809932  \n",
       "2  0.123307  1.547221 -0.734104 -0.215047  0.877633  \n",
       "3  1.928297 -0.835789  1.403522  1.584039 -2.115051  \n",
       "4 -1.343177 -0.015457 -2.437355  3.727537 -0.007040  \n",
       "\n",
       "[5 rows x 48 columns]"
      ]
     },
     "execution_count": 5,
     "metadata": {},
     "output_type": "execute_result"
    }
   ],
   "source": [
    "# normalize all of the columns\n",
    "std_scaler = StandardScaler()\n",
    "X_scaled = std_scaler.fit_transform(X_train.to_numpy())\n",
    "X_scaled = pd.DataFrame(X_scaled, columns = list(X.columns))\n",
    "X_scaled.head()"
   ]
  },
  {
   "cell_type": "code",
   "execution_count": 6,
   "metadata": {},
   "outputs": [],
   "source": [
    "# rfecv to do feature selection\n",
    "# grid search over number of features argument to get optimal # of features to keep in the end\n",
    "# train rfecv with LR and then assume subset of features are the best for all models since LR,\n",
    "# LDA, etc. are similar models and variables chosen through training with other models\n",
    "# will mostly likely be very similar"
   ]
  },
  {
   "cell_type": "code",
   "execution_count": 7,
   "metadata": {},
   "outputs": [
    {
     "data": {
      "text/plain": [
       "RFECV(cv=StratifiedKFold(n_splits=10, random_state=None, shuffle=False),\n",
       "      estimator=LogisticRegression(max_iter=1000), scoring='f1_weighted')"
      ]
     },
     "execution_count": 7,
     "metadata": {},
     "output_type": "execute_result"
    }
   ],
   "source": [
    "#Stratified 10-fold cross validation\n",
    "#using stratified ensure that each fold of dataset has the same proportion of observations with a given label\n",
    "cv = StratifiedKFold(10)\n",
    "rfecv = RFECV(LogisticRegression(max_iter=1000), cv=cv, scoring='f1_weighted')\n",
    "rfecv.fit(X_scaled, y_train)"
   ]
  },
  {
   "cell_type": "code",
   "execution_count": 8,
   "metadata": {},
   "outputs": [
    {
     "name": "stdout",
     "output_type": "stream",
     "text": [
      "Optimal number of features : 42\n",
      "Best features : Index(['Useful', 'Cool', 'Funny', 'Bus_Ave_Star', 'User_Useful_count',\n",
      "       'User_Funny_count', 'User_Cool_count', 'User_Fans', 'Users_Ave_Star',\n",
      "       'pc1', 'pc2', 'pc3', 'pc4', 'pc5', 'pc6', 'pc7', 'pc9', 'pc11', 'pc12',\n",
      "       'pc13', 'pc15', 'pc16', 'pc17', 'pc18', 'pc19', 'pc20', 'pc21', 'pc22',\n",
      "       'pc23', 'pc24', 'pc25', 'pc26', 'pc27', 'pc28', 'pc29', 'pc30', 'pc31',\n",
      "       'pc32', 'pc33', 'pc34', 'pc35', 'pc36'],\n",
      "      dtype='object')\n",
      "Original features : Index(['Useful', 'Cool', 'Funny', 'Bus_Ave_Star', 'User_Review_count',\n",
      "       'User_Useful_count', 'User_Funny_count', 'User_Cool_count', 'User_Fans',\n",
      "       'Users_Ave_Star', 'Elite_Count', 'pc1', 'pc2', 'pc3', 'pc4', 'pc5',\n",
      "       'pc6', 'pc7', 'pc8', 'pc9', 'pc10', 'pc11', 'pc12', 'pc13', 'pc14',\n",
      "       'pc15', 'pc16', 'pc17', 'pc18', 'pc19', 'pc20', 'pc21', 'pc22', 'pc23',\n",
      "       'pc24', 'pc25', 'pc26', 'pc27', 'pc28', 'pc29', 'pc30', 'pc31', 'pc32',\n",
      "       'pc33', 'pc34', 'pc35', 'pc36', 'pc37'],\n",
      "      dtype='object')\n"
     ]
    },
    {
     "data": {
      "image/png": "[encoded data removed]",
      "text/plain": [
       "<Figure size 432x288 with 1 Axes>"
      ]
     },
     "metadata": {
      "needs_background": "light"
     },
     "output_type": "display_data"
    }
   ],
   "source": [
    "print('Optimal number of features :', rfecv.n_features_)\n",
    "print('Best features :', X.columns[rfecv.support_])\n",
    "print('Original features :', X.columns)\n",
    "plt.figure()\n",
    "plt.xlabel(\"Number of features selected\")\n",
    "plt.ylabel(\"Cross validation score \\n of number of selected features\")\n",
    "plt.plot(range(1, len(rfecv.grid_scores_) + 1), rfecv.grid_scores_)\n",
    "plt.show()"
   ]
  },
  {
   "cell_type": "code",
   "execution_count": 9,
   "metadata": {},
   "outputs": [
    {
     "data": {
      "text/plain": [
       "Index(['Useful', 'Cool', 'Funny', 'Bus_Ave_Star', 'User_Useful_count',\n",
       "       'User_Funny_count', 'User_Cool_count', 'User_Fans', 'Users_Ave_Star',\n",
       "       'pc1', 'pc2', 'pc3'],\n",
       "      dtype='object')"
      ]
     },
     "execution_count": 9,
     "metadata": {},
     "output_type": "execute_result"
    }
   ],
   "source": [
    "optimal_features = X_scaled.loc[:, rfecv.support_] # selector is a RFECV fitted object\n",
    "\n",
    "n = 12 # to select top 6 features\n",
    "feature_ranks = rfecv.ranking_  # selector is a RFECV fitted object\n",
    "feature_ranks_with_idx = enumerate(feature_ranks)\n",
    "sorted_ranks_with_idx = sorted(feature_ranks_with_idx, key=lambda x: x[1])\n",
    "top_n_idx = [idx for idx, rnk in sorted_ranks_with_idx[:n]]\n",
    "\n",
    "top_n_features = X_scaled.iloc[:, top_n_idx]\n",
    "top_n_features.columns"
   ]
  },
  {
   "cell_type": "markdown",
   "metadata": {},
   "source": [
    "# Logistic Regression"
   ]
  },
  {
   "cell_type": "code",
   "execution_count": 14,
   "metadata": {},
   "outputs": [],
   "source": [
    "lr = LogisticRegression(random_state=0).fit(top_n_features, y_train)"
   ]
  },
  {
   "cell_type": "code",
   "execution_count": 16,
   "metadata": {},
   "outputs": [
    {
     "name": "stdout",
     "output_type": "stream",
     "text": [
      "Cross-Validation Accuracy Scores [0.79158249 0.79124579 0.79016504 0.80161671 0.7942068  0.79184911\n",
      " 0.79555406 0.80195352 0.79050185 0.78208151]\n"
     ]
    }
   ],
   "source": [
    "from sklearn.model_selection import cross_val_score\n",
    "\n",
    "scores = cross_val_score(lr, top_n_features, y_train, cv=10)\n",
    "print('Cross-Validation Accuracy Scores', scores)"
   ]
  },
  {
   "cell_type": "code",
   "execution_count": 10,
   "metadata": {},
   "outputs": [
    {
     "data": {
      "text/plain": [
       "Index(['Useful', 'Cool', 'Funny', 'Bus_Ave_Star', 'User_Useful_count',\n",
       "       'User_Funny_count', 'User_Cool_count', 'User_Fans', 'Users_Ave_Star',\n",
       "       'pc1', 'pc2', 'pc3'],\n",
       "      dtype='object')"
      ]
     },
     "execution_count": 10,
     "metadata": {},
     "output_type": "execute_result"
    }
   ],
   "source": [
    "# predict using LR on test set\n",
    "X_test_scaled = std_scaler.transform(X_test.to_numpy())\n",
    "X_test_scaled = pd.DataFrame(X_test_scaled, columns = list(X_test.columns))"
   ]
  },
  {
   "cell_type": "code",
   "execution_count": 15,
   "metadata": {},
   "outputs": [
    {
     "data": {
      "text/plain": [
       "0.789014615747289"
      ]
     },
     "execution_count": 15,
     "metadata": {},
     "output_type": "execute_result"
    }
   ],
   "source": [
    "lr.score(X_test_scaled.iloc[:, top_n_idx], y_test)"
   ]
  },
  {
   "cell_type": "code",
   "execution_count": 19,
   "metadata": {},
   "outputs": [
    {
     "data": {
      "text/plain": [
       "array([[1001,  542],\n",
       "       [2143, 9040]])"
      ]
     },
     "execution_count": 19,
     "metadata": {},
     "output_type": "execute_result"
    }
   ],
   "source": [
    "cm = confusion_matrix(lr.predict(X_test_scaled.iloc[:, top_n_idx]), y_test)\n",
    "TN, FP, FN, TP = cm.ravel()\n",
    "cm"
   ]
  },
  {
   "cell_type": "code",
   "execution_count": 21,
   "metadata": {},
   "outputs": [
    {
     "name": "stdout",
     "output_type": "stream",
     "text": [
      "0.808369847089332 0.6487362281270252 0.35126377187297475 0.19163015291066798\n"
     ]
    }
   ],
   "source": [
    "# Sensitivity, hit rate, recall, or true positive rate\n",
    "TPR = TP/(TP+FN)\n",
    "# Specificity or true negative rate\n",
    "TNR = TN/(TN+FP) \n",
    "# Fall out or false positive rate\n",
    "FPR = FP/(FP+TN)\n",
    "# False negative rate\n",
    "FNR = FN/(TP+FN)\n",
    "\n",
    "# Overall accuracy\n",
    "ACC = (TP+TN)/(TP+FP+FN+TN)\n",
    "\n",
    "print(TPR, TNR, FPR, FNR)"
   ]
  },
  {
   "cell_type": "markdown",
   "metadata": {},
   "source": [
    "# LDA"
   ]
  },
  {
   "cell_type": "code",
   "execution_count": 24,
   "metadata": {},
   "outputs": [
    {
     "data": {
      "text/plain": [
       "LinearDiscriminantAnalysis()"
      ]
     },
     "execution_count": 24,
     "metadata": {},
     "output_type": "execute_result"
    }
   ],
   "source": [
    "lda = LDA()\n",
    "lda.fit(top_n_features, y_train)"
   ]
  },
  {
   "cell_type": "code",
   "execution_count": 25,
   "metadata": {},
   "outputs": [
    {
     "name": "stdout",
     "output_type": "stream",
     "text": [
      "Cross-Validation Accuracy Scores [0.78686869 0.78922559 0.78544965 0.7989222  0.7965645  0.79016504\n",
      " 0.79151229 0.79488043 0.78982822 0.78342876]\n"
     ]
    }
   ],
   "source": [
    "scores = cross_val_score(lda, top_n_features, y_train, cv=10)\n",
    "print('Cross-Validation Accuracy Scores', scores)"
   ]
  },
  {
   "cell_type": "code",
   "execution_count": 26,
   "metadata": {},
   "outputs": [
    {
     "data": {
      "text/plain": [
       "0.7872858714442873"
      ]
     },
     "execution_count": 26,
     "metadata": {},
     "output_type": "execute_result"
    }
   ],
   "source": [
    "lda.score(X_test_scaled.iloc[:, top_n_idx], y_test)"
   ]
  },
  {
   "cell_type": "markdown",
   "metadata": {},
   "source": [
    "# QDA"
   ]
  },
  {
   "cell_type": "code",
   "execution_count": 29,
   "metadata": {},
   "outputs": [
    {
     "data": {
      "text/plain": [
       "QuadraticDiscriminantAnalysis()"
      ]
     },
     "execution_count": 29,
     "metadata": {},
     "output_type": "execute_result"
    }
   ],
   "source": [
    "qda = QDA()\n",
    "qda.fit(top_n_features, y_train)"
   ]
  },
  {
   "cell_type": "code",
   "execution_count": 30,
   "metadata": {},
   "outputs": [
    {
     "name": "stdout",
     "output_type": "stream",
     "text": [
      "Cross-Validation Accuracy Scores [0.76801347 0.77306397 0.75682048 0.77265072 0.77366117 0.77366117\n",
      " 0.77164028 0.77972381 0.76591445 0.76288313]\n"
     ]
    }
   ],
   "source": [
    "scores = cross_val_score(qda, top_n_features, y_train, cv=10)\n",
    "print('Cross-Validation Accuracy Scores', scores)"
   ]
  },
  {
   "cell_type": "code",
   "execution_count": 31,
   "metadata": {},
   "outputs": [
    {
     "data": {
      "text/plain": [
       "0.7706270627062707"
      ]
     },
     "execution_count": 31,
     "metadata": {},
     "output_type": "execute_result"
    }
   ],
   "source": [
    "qda.score(X_test_scaled.iloc[:, top_n_idx], y_test)"
   ]
  },
  {
   "cell_type": "code",
   "execution_count": null,
   "metadata": {},
   "outputs": [],
   "source": []
  }
 ],
 "metadata": {
  "kernelspec": {
   "display_name": "Python 3.8.5 ('base')",
   "language": "python",
   "name": "python3"
  },
  "language_info": {
   "codemirror_mode": {
    "name": "ipython",
    "version": 3
   },
   "file_extension": ".py",
   "mimetype": "text/x-python",
   "name": "python",
   "nbconvert_exporter": "python",
   "pygments_lexer": "ipython3",
   "version": "3.8.5"
  },
  "orig_nbformat": 4,
  "vscode": {
   "interpreter": {
    "hash": "7b14b64b704d0d55ebf9abee5451b3f35350357e70a4a4455d997089f1b38f76"
   }
  }
 },
 "nbformat": 4,
 "nbformat_minor": 2
}
